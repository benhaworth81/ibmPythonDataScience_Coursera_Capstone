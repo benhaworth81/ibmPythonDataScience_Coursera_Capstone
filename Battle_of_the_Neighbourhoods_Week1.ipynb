{
 "cells": [
  {
   "cell_type": "markdown",
   "metadata": {},
   "source": [
    "# Battle of the Neighborhoods"
   ]
  },
  {
   "cell_type": "markdown",
   "metadata": {},
   "source": [
    "## Ben Haworth, 1st July 2020"
   ]
  },
  {
   "cell_type": "markdown",
   "metadata": {},
   "source": [
    "# Week 1"
   ]
  },
  {
   "cell_type": "markdown",
   "metadata": {},
   "source": [
    "For this week, you will required to submit the following:"
   ]
  },
  {
   "cell_type": "markdown",
   "metadata": {},
   "source": [
    "### 1. A description of the problem and a discussion of the background. (15 marks)"
   ]
  },
  {
   "cell_type": "markdown",
   "metadata": {},
   "source": [
    "I lived in London for most of my adult life, from the age of 18 until I was 34. After nine months of travelling around the world, my partner and I moved to Berlin. \n",
    "\n",
    "Something we really like to do is eat out, and we know where in London is best for certain types of cuisine. Most notably, in London, the best Indian food can be found around Brick Lane, and for Chinese food you might go to China Town. However, this is maybe a rule that can be broken. Just because an area has the most of a certain type of restaurant doesn't also mean that the very best restaurant of its kind will be located in that area. Plus, we had an idea of the best places to eat in our neighborhood. \n",
    "\n",
    "Berlin doesn't seem to have an equivalent of Brick Lane or China Town. So, my idea for the capstone project, \"Battle of the Neighbourhoods\", is to look at the neighbourhoods of London and the most popular types of food in that neighbourhood. I will then attempt to find similar neighbourhoods in Berlin.\n",
    "\n",
    "The idea is that this project could be reusable by anybody who moves from one city to another so that they can get an idea of which areas have similar restaurants and types of international cuisine."
   ]
  },
  {
   "cell_type": "markdown",
   "metadata": {},
   "source": [
    "### 2. A description of the data and how it will be used to solve the problem. (15 marks)"
   ]
  },
  {
   "cell_type": "markdown",
   "metadata": {},
   "source": [
    "To complete this project, I will require neighborhood data for London and Berlin. My plan is to find suitable web pages which detail the neighborhoods of the cities and use a web page scraper (e.g. Soup) to create a list of the neighborhoods for each city.\n",
    "\n",
    "I can re-use code from the earlier projects to obtain coordinate data from neighbourhood names, and restaurant data as a subset of venue data from Foursquare. This should only require filtering of the data set without modification of the functions which request venue data.\n",
    "\n",
    "For the analysis, I plan to use k-means clustering to determine neighborhood similarity. I would prefer not to pick an arbitrary number of clusters, and instead try to identify an optimum number of clusters by scoring each model with a silhouette score.\n",
    "\n",
    "I will combine restaurant data from both cities in order to create a data set for clustering, and then apply the resulting k-means model to the data for each city. The end result should be a list of neighborhoods with a cluster assignment. This can then be mapped to create a visual representation of the clustiner for both cities."
   ]
  }
 ],
 "metadata": {
  "kernelspec": {
   "display_name": "Python 3",
   "language": "python",
   "name": "python3"
  },
  "language_info": {
   "codemirror_mode": {
    "name": "ipython",
    "version": 3
   },
   "file_extension": ".py",
   "mimetype": "text/x-python",
   "name": "python",
   "nbconvert_exporter": "python",
   "pygments_lexer": "ipython3",
   "version": "3.7.6"
  }
 },
 "nbformat": 4,
 "nbformat_minor": 2
}
